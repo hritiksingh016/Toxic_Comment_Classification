{
  "nbformat": 4,
  "nbformat_minor": 0,
  "metadata": {
    "kernelspec": {
      "display_name": "Python 3",
      "language": "python",
      "name": "python3"
    },
    "language_info": {
      "codemirror_mode": {
        "name": "ipython",
        "version": 3
      },
      "file_extension": ".py",
      "mimetype": "text/x-python",
      "name": "python",
      "nbconvert_exporter": "python",
      "pygments_lexer": "ipython3",
      "version": "3.6.3"
    },
    "colab": {
      "name": "Copy of CNNwithWordEmbedding.ipynb",
      "provenance": [],
      "toc_visible": true
    }
  },
  "cells": [
    {
      "cell_type": "code",
      "metadata": {
        "id": "iq75yJdrkdUN"
      },
      "source": [
        "import sys, os, re, csv, codecs, numpy as np, pandas as pd\n",
        "import matplotlib.pyplot as plt\n",
        "from IPython.core.display import display, HTML\n",
        "from keras.preprocessing.text import Tokenizer\n",
        "from keras.preprocessing.sequence import pad_sequences\n",
        "from keras.layers import Dense, Input, LSTM, Embedding, Dropout, Activation\n",
        "from keras.layers import Bidirectional, GlobalMaxPool1D\n",
        "from keras.models import Model\n",
        "from keras import initializers, regularizers, constraints, optimizers, layers"
      ],
      "execution_count": null,
      "outputs": []
    },
    {
      "cell_type": "code",
      "metadata": {
        "collapsed": true,
        "id": "Kb-NFdQxkdUO"
      },
      "source": [
        "#function for ploting history of the model training\n",
        "from pyspark.sql import Row\n",
        "def plot_history(history_arg):\n",
        "  array = []\n",
        "  i =1\n",
        "  j =1\n",
        "  for acc in history_arg.history['acc']:\n",
        "    array.append(Row(epoch=i, accuracy=float(acc)))\n",
        "    i = i+1\n",
        "  acc_df = sqlContext.createDataFrame((array))\n",
        "\n",
        "  array = []\n",
        "  for loss in history_arg.history['loss']:\n",
        "      array.append(Row(epoch = j, loss = float(loss)))\n",
        "      j = j+1\n",
        "  loss_df = sqlContext.createDataFrame(array)\n",
        "\n",
        "  display_df = acc_df.join(loss_df,on=(\"epoch\")).orderBy(\"epoch\")\n",
        "  return display_df"
      ],
      "execution_count": null,
      "outputs": []
    },
    {
      "cell_type": "code",
      "metadata": {
        "colab": {
          "base_uri": "https://localhost:8080/"
        },
        "id": "s6vgHkBItXrd",
        "outputId": "1fb3440a-e5b4-46d0-aa21-e87ba160b06d"
      },
      "source": [
        "!pip install pyspark"
      ],
      "execution_count": null,
      "outputs": [
        {
          "output_type": "stream",
          "text": [
            "Collecting pyspark\n",
            "\u001b[?25l  Downloading https://files.pythonhosted.org/packages/f0/26/198fc8c0b98580f617cb03cb298c6056587b8f0447e20fa40c5b634ced77/pyspark-3.0.1.tar.gz (204.2MB)\n",
            "\u001b[K     |████████████████████████████████| 204.2MB 75kB/s \n",
            "\u001b[?25hCollecting py4j==0.10.9\n",
            "\u001b[?25l  Downloading https://files.pythonhosted.org/packages/9e/b6/6a4fb90cd235dc8e265a6a2067f2a2c99f0d91787f06aca4bcf7c23f3f80/py4j-0.10.9-py2.py3-none-any.whl (198kB)\n",
            "\u001b[K     |████████████████████████████████| 204kB 48.9MB/s \n",
            "\u001b[?25hBuilding wheels for collected packages: pyspark\n",
            "  Building wheel for pyspark (setup.py) ... \u001b[?25l\u001b[?25hdone\n",
            "  Created wheel for pyspark: filename=pyspark-3.0.1-py2.py3-none-any.whl size=204612243 sha256=ee642a028e95573d5c2e5c5923360f404ae3ed878039e449d46a2d84fecc549d\n",
            "  Stored in directory: /root/.cache/pip/wheels/5e/bd/07/031766ca628adec8435bb40f0bd83bb676ce65ff4007f8e73f\n",
            "Successfully built pyspark\n",
            "Installing collected packages: py4j, pyspark\n",
            "Successfully installed py4j-0.10.9 pyspark-3.0.1\n"
          ],
          "name": "stdout"
        }
      ]
    },
    {
      "cell_type": "code",
      "metadata": {
        "collapsed": true,
        "id": "Ja9XrwgfkdUP"
      },
      "source": [
        "from pyspark.sql.types import *\n",
        "\n",
        "#Class labels\n",
        "list_classes = [\"toxic\", \"severe_toxic\", \"obscene\", \"threat\", \"insult\", \"identity_hate\"]\n",
        "\n",
        "#Read the data\n",
        "toxicWordsTrain = pd.read_csv(\"train.csv\");\n",
        "toxicWordsTest = pd.read_csv(\"test.csv\")\n",
        "\n",
        "y_train = toxicWordsTrain[list_classes].values\n",
        "x_train = toxicWordsTrain[\"comment_text\"]\n",
        "x_test  = toxicWordsTest[\"comment_text\"]\n",
        "\n",
        "submission = pd.read_csv('sample_submission.csv')"
      ],
      "execution_count": null,
      "outputs": []
    },
    {
      "cell_type": "code",
      "metadata": {
        "colab": {
          "base_uri": "https://localhost:8080/",
          "height": 476
        },
        "id": "MgPloYlOkdUQ",
        "outputId": "05f926dd-c567-459d-bfbc-2e7547066ba3"
      },
      "source": [
        "import seaborn as sns\n",
        "colors_list = [\"brownish green\", \"pine green\", \"ugly purple\",\n",
        "               \"blood\", \"deep blue\", \"brown\", \"azure\"]\n",
        "\n",
        "palette= sns.xkcd_palette(colors_list)\n",
        "\n",
        "x=toxicWordsTrain.iloc[:,2:].sum()\n",
        "#print(x.index)\n",
        "plt.figure(figsize=(9,6))\n",
        "ax= sns.barplot(x.index, x.values,palette=palette)\n",
        "plt.title(\"Class\")\n",
        "plt.ylabel('Occurrences', fontsize=12)\n",
        "plt.xlabel('Type ')\n",
        "rects = ax.patches\n",
        "labels = x.values\n",
        "for rect, label in zip(rects, labels):\n",
        "    height = rect.get_height()\n",
        "    ax.text(rect.get_x() + rect.get_width()/2, height + 10, label, \n",
        "            ha='center', va='bottom')\n",
        "\n",
        "display(plt.show())"
      ],
      "execution_count": null,
      "outputs": [
        {
          "output_type": "stream",
          "text": [
            "/usr/local/lib/python3.6/dist-packages/seaborn/_decorators.py:43: FutureWarning: Pass the following variables as keyword args: x, y. From version 0.12, the only valid positional argument will be `data`, and passing other arguments without an explicit keyword will result in an error or misinterpretation.\n",
            "  FutureWarning\n"
          ],
          "name": "stderr"
        },
        {
          "output_type": "display_data",
          "data": {
            "image/png": "[encoded data removed]",
            "text/plain": [
              "<Figure size 648x432 with 1 Axes>"
            ]
          },
          "metadata": {
            "tags": [],
            "needs_background": "light"
          }
        },
        {
          "output_type": "display_data",
          "data": {
            "text/plain": [
              "None"
            ]
          },
          "metadata": {
            "tags": []
          }
        }
      ]
    },
    {
      "cell_type": "code",
      "metadata": {
        "colab": {
          "base_uri": "https://localhost:8080/"
        },
        "id": "k28HyEoEkdUR",
        "outputId": "b17eb296-2b78-4295-dda9-7007371f430a"
      },
      "source": [
        "# Sample from dataset\n",
        "for sample_i in range(3):\n",
        "    print('Comment #{}:  {}'.format(sample_i + 1, x_train[sample_i]))\n",
        "    print('Label #{}:    {}'.format(sample_i + 1, y_train[sample_i]))"
      ],
      "execution_count": null,
      "outputs": [
        {
          "output_type": "stream",
          "text": [
            "Comment #1:  Explanation\n",
            "Why the edits made under my username Hardcore Metallica Fan were reverted? They weren't vandalisms, just closure on some GAs after I voted at New York Dolls FAC. And please don't remove the template from the talk page since I'm retired now.89.205.38.27\n",
            "Label #1:    [0 0 0 0 0 0]\n",
            "Comment #2:  D'aww! He matches this background colour I'm seemingly stuck with. Thanks.  (talk) 21:51, January 11, 2016 (UTC)\n",
            "Label #2:    [0 0 0 0 0 0]\n",
            "Comment #3:  Hey man, I'm really not trying to edit war. It's just that this guy is constantly removing relevant information and talking to me through edits instead of my talk page. He seems to care more about the formatting than the actual info.\n",
            "Label #3:    [0 0 0 0 0 0]\n"
          ],
          "name": "stdout"
        }
      ]
    },
    {
      "cell_type": "code",
      "metadata": {
        "colab": {
          "base_uri": "https://localhost:8080/"
        },
        "id": "cnvbTtXhkdUR",
        "outputId": "9ec5ca53-4973-4fdf-b9df-34704e160bfe"
      },
      "source": [
        "# Explore vocabulary\n",
        "import collections\n",
        "from tqdm import tqdm\n",
        "\n",
        "# Create a counter object for each dataset\n",
        "word_counter = collections.Counter([word for sentence in tqdm(x_train, total=len(x_train)) \\\n",
        "                                                              for word in sentence.split()])\n",
        "\n",
        "print('{} words.'.format(len([word for sentence in x_train for word in sentence.split()])))\n",
        "print('{} unique words.'.format(len(word_counter)))\n",
        "print('10 Most common words in the dataset:')\n",
        "print('\"' + '\" \"'.join(list(zip(*word_counter.most_common(10)))[0]) + '\"')"
      ],
      "execution_count": null,
      "outputs": [
        {
          "output_type": "stream",
          "text": [
            "100%|██████████| 159571/159571 [00:01<00:00, 120251.63it/s]\n"
          ],
          "name": "stderr"
        },
        {
          "output_type": "stream",
          "text": [
            "10734904 words.\n",
            "532299 unique words.\n",
            "10 Most common words in the dataset:\n",
            "\"the\" \"to\" \"of\" \"and\" \"a\" \"I\" \"is\" \"you\" \"that\" \"in\"\n"
          ],
          "name": "stdout"
        }
      ]
    },
    {
      "cell_type": "code",
      "metadata": {
        "colab": {
          "base_uri": "https://localhost:8080/"
        },
        "id": "lRCQsxeikdUT",
        "outputId": "a95a9792-354f-4b32-9c2d-5bc9a2b5f5d6"
      },
      "source": [
        "# Tokenize and Pad\n",
        "from keras.preprocessing.text import Tokenizer\n",
        "from keras.preprocessing.sequence import pad_sequences\n",
        "\n",
        "# Create tokenizer\n",
        "tokenizer = Tokenizer(num_words=None,\n",
        "                      filters='!\"#$%&()*+,-./:;<=>?@[\\\\]^_`{|}~\\t\\n',\n",
        "                      lower=True,\n",
        "                      split=\" \",\n",
        "                      char_level=False)\n",
        "\n",
        "# Fit and run tokenizer\n",
        "tokenizer.fit_on_texts(list(x_train))\n",
        "tokenized_train = tokenizer.texts_to_sequences(x_train)\n",
        "tokenized_test = tokenizer.texts_to_sequences(x_test)\n",
        "word_index = tokenizer.word_index\n",
        "\n",
        "# Extract variables\n",
        "vocab_size = len(word_index)\n",
        "print('Vocab size: {}'.format(vocab_size))\n",
        "longest = max(len(seq) for seq in tokenized_train)\n",
        "print(\"Longest comment size: {}\".format(longest))\n",
        "average = np.mean([len(seq) for seq in tokenized_train])\n",
        "print(\"Average comment size: {}\".format(average))\n",
        "stdev = np.std([len(seq) for seq in tokenized_train])\n",
        "print(\"Stdev of comment size: {}\".format(stdev))\n",
        "max_len = int(average + stdev * 3)\n",
        "print('Max comment size: {}'.format(max_len))\n",
        "print()\n",
        "\n",
        "# Pad sequences\n",
        "processed_X_train = pad_sequences(tokenized_train, maxlen=max_len, padding='post', truncating='post')\n",
        "processed_X_test = pad_sequences(tokenized_test, maxlen=max_len, padding='post', truncating='post')\n",
        "\n",
        "# Sample tokenization\n",
        "for sample_i, (sent, token_sent) in enumerate(zip(x_train[:2], tokenized_train[:2])):\n",
        "    print('Sequence {}'.format(sample_i + 1))\n",
        "    print('  Input:  {}'.format(sent))\n",
        "    print('  Output: {}'.format(token_sent))"
      ],
      "execution_count": null,
      "outputs": [
        {
          "output_type": "stream",
          "text": [
            "Vocab size: 210337\n",
            "Longest comment size: 1403\n",
            "Average comment size: 68.22156908210138\n",
            "Stdev of comment size: 101.07344657013672\n",
            "Max comment size: 371\n",
            "\n",
            "Sequence 1\n",
            "  Input:  Explanation\n",
            "Why the edits made under my username Hardcore Metallica Fan were reverted? They weren't vandalisms, just closure on some GAs after I voted at New York Dolls FAC. And please don't remove the template from the talk page since I'm retired now.89.205.38.27\n",
            "  Output: [688, 75, 1, 126, 130, 177, 29, 672, 4511, 12052, 1116, 86, 331, 51, 2278, 11448, 50, 6864, 15, 60, 2756, 148, 7, 2937, 34, 117, 1221, 15190, 2825, 4, 45, 59, 244, 1, 365, 31, 1, 38, 27, 143, 73, 3462, 89, 3085, 4583, 2273, 985]\n",
            "Sequence 2\n",
            "  Input:  D'aww! He matches this background colour I'm seemingly stuck with. Thanks.  (talk) 21:51, January 11, 2016 (UTC)\n",
            "  Output: [96145, 52, 2635, 13, 555, 3809, 73, 4556, 2706, 21, 94, 38, 803, 2679, 992, 589, 8377, 182]\n"
          ],
          "name": "stdout"
        }
      ]
    },
    {
      "cell_type": "markdown",
      "metadata": {
        "id": "6-f18nFekdUU"
      },
      "source": [
        "After preprocessing, our vocabulary size drops to a more manageable 210,337 with a max comment size of 371 words and an average comment size of about 68 words per sentence."
      ]
    },
    {
      "cell_type": "code",
      "metadata": {
        "colab": {
          "base_uri": "https://localhost:8080/"
        },
        "id": "mq3WfiUp3LD_",
        "outputId": "4c80a77c-8d38-490a-a05d-f03216bd0269"
      },
      "source": [
        "!pip install PyDrive"
      ],
      "execution_count": null,
      "outputs": [
        {
          "output_type": "stream",
          "text": [
            "Requirement already satisfied: PyDrive in /usr/local/lib/python3.6/dist-packages (1.3.1)\n",
            "Requirement already satisfied: oauth2client>=4.0.0 in /usr/local/lib/python3.6/dist-packages (from PyDrive) (4.1.3)\n",
            "Requirement already satisfied: google-api-python-client>=1.2 in /usr/local/lib/python3.6/dist-packages (from PyDrive) (1.7.12)\n",
            "Requirement already satisfied: PyYAML>=3.0 in /usr/local/lib/python3.6/dist-packages (from PyDrive) (3.13)\n",
            "Requirement already satisfied: httplib2>=0.9.1 in /usr/local/lib/python3.6/dist-packages (from oauth2client>=4.0.0->PyDrive) (0.17.4)\n",
            "Requirement already satisfied: pyasn1-modules>=0.0.5 in /usr/local/lib/python3.6/dist-packages (from oauth2client>=4.0.0->PyDrive) (0.2.8)\n",
            "Requirement already satisfied: rsa>=3.1.4 in /usr/local/lib/python3.6/dist-packages (from oauth2client>=4.0.0->PyDrive) (4.6)\n",
            "Requirement already satisfied: six>=1.6.1 in /usr/local/lib/python3.6/dist-packages (from oauth2client>=4.0.0->PyDrive) (1.15.0)\n",
            "Requirement already satisfied: pyasn1>=0.1.7 in /usr/local/lib/python3.6/dist-packages (from oauth2client>=4.0.0->PyDrive) (0.4.8)\n",
            "Requirement already satisfied: google-auth-httplib2>=0.0.3 in /usr/local/lib/python3.6/dist-packages (from google-api-python-client>=1.2->PyDrive) (0.0.4)\n",
            "Requirement already satisfied: google-auth>=1.4.1 in /usr/local/lib/python3.6/dist-packages (from google-api-python-client>=1.2->PyDrive) (1.17.2)\n",
            "Requirement already satisfied: uritemplate<4dev,>=3.0.0 in /usr/local/lib/python3.6/dist-packages (from google-api-python-client>=1.2->PyDrive) (3.0.1)\n",
            "Requirement already satisfied: cachetools<5.0,>=2.0.0 in /usr/local/lib/python3.6/dist-packages (from google-auth>=1.4.1->google-api-python-client>=1.2->PyDrive) (4.1.1)\n",
            "Requirement already satisfied: setuptools>=40.3.0 in /usr/local/lib/python3.6/dist-packages (from google-auth>=1.4.1->google-api-python-client>=1.2->PyDrive) (50.3.2)\n"
          ],
          "name": "stdout"
        }
      ]
    },
    {
      "cell_type": "code",
      "metadata": {
        "id": "sY66qKkO3QYJ"
      },
      "source": [
        "import os\r\n",
        "from pydrive.auth import GoogleAuth\r\n",
        "from pydrive.drive import GoogleDrive\r\n",
        "from google.colab import auth\r\n",
        "from oauth2client.client import GoogleCredentials"
      ],
      "execution_count": null,
      "outputs": []
    },
    {
      "cell_type": "code",
      "metadata": {
        "id": "JUxt_fy23YJK"
      },
      "source": [
        "auth.authenticate_user()\r\n",
        "gauth = GoogleAuth()\r\n",
        "gauth.credentials = GoogleCredentials.get_application_default()\r\n",
        "drive = GoogleDrive(gauth)"
      ],
      "execution_count": null,
      "outputs": []
    },
    {
      "cell_type": "code",
      "metadata": {
        "colab": {
          "base_uri": "https://localhost:8080/"
        },
        "id": "2-vVex_5_loJ",
        "outputId": "5271342b-7cae-4572-f89c-f5178b3ab997"
      },
      "source": [
        "from google.colab import drive\r\n",
        "drive.mount('/content/gdrive')"
      ],
      "execution_count": null,
      "outputs": [
        {
          "output_type": "stream",
          "text": [
            "Mounted at /content/gdrive\n"
          ],
          "name": "stdout"
        }
      ]
    },
    {
      "cell_type": "code",
      "metadata": {
        "colab": {
          "base_uri": "https://localhost:8080/"
        },
        "id": "Yr9nkcxxkdUV",
        "outputId": "c4d387a7-e554-4781-e780-6e32fb880105"
      },
      "source": [
        "embedding_dim = 300\n",
        "\n",
        "# Get embeddings\n",
        "embeddings_index = {}\n",
        "f = open('/content/gdrive/MyDrive/wiki.en.vec', encoding=\"utf8\")\n",
        "for line in f:\n",
        "    values = line.rstrip().rsplit(' ', embedding_dim)\n",
        "    word = values[0]\n",
        "    coefs = np.asarray(values[1:], dtype='float32')\n",
        "    embeddings_index[word] = coefs\n",
        "f.close()\n",
        "\n",
        "print('Found {} word vectors.'.format(len(embeddings_index)))"
      ],
      "execution_count": null,
      "outputs": [
        {
          "output_type": "stream",
          "text": [
            "Found 2519371 word vectors.\n"
          ],
          "name": "stdout"
        }
      ]
    },
    {
      "cell_type": "code",
      "metadata": {
        "collapsed": true,
        "id": "j61NwwXskdUW"
      },
      "source": [
        "# Build embedding matrix\n",
        "embedding_matrix = np.zeros((len(word_index) + 1, embedding_dim))\n",
        "for word, i in word_index.items():\n",
        "    embedding_vector = embeddings_index.get(word)\n",
        "    if embedding_vector is not None:\n",
        "        # Words not found in embedding index will be all-zeros.\n",
        "        embedding_matrix[i] = embedding_vector"
      ],
      "execution_count": null,
      "outputs": []
    },
    {
      "cell_type": "code",
      "metadata": {
        "collapsed": true,
        "id": "rULjuVLZkdUW"
      },
      "source": [
        "# Save embeddings\n",
        "import h5py\n",
        "with h5py.File('embeddings.h5', 'w') as hf:\n",
        "    hf.create_dataset(\"fasttext\",  data=embedding_matrix)"
      ],
      "execution_count": null,
      "outputs": []
    },
    {
      "cell_type": "code",
      "metadata": {
        "collapsed": true,
        "id": "TCJpwj-wkdUW"
      },
      "source": [
        "# Load embeddings\n",
        "with h5py.File('embeddings.h5', 'r') as hf:\n",
        "    embedding_matrix = hf['fasttext'][:]"
      ],
      "execution_count": null,
      "outputs": []
    },
    {
      "cell_type": "code",
      "metadata": {
        "colab": {
          "base_uri": "https://localhost:8080/"
        },
        "id": "WBSwujhYBpAc",
        "outputId": "e95caaa8-6477-4db7-ca2a-ea57bf244e32"
      },
      "source": [
        "!pip install --upgrade keras"
      ],
      "execution_count": null,
      "outputs": [
        {
          "output_type": "stream",
          "text": [
            "Requirement already up-to-date: keras in /usr/local/lib/python3.6/dist-packages (2.4.3)\n",
            "Requirement already satisfied, skipping upgrade: scipy>=0.14 in /usr/local/lib/python3.6/dist-packages (from keras) (1.4.1)\n",
            "Requirement already satisfied, skipping upgrade: pyyaml in /usr/local/lib/python3.6/dist-packages (from keras) (3.13)\n",
            "Requirement already satisfied, skipping upgrade: h5py in /usr/local/lib/python3.6/dist-packages (from keras) (2.10.0)\n",
            "Requirement already satisfied, skipping upgrade: numpy>=1.9.1 in /usr/local/lib/python3.6/dist-packages (from keras) (1.18.5)\n",
            "Requirement already satisfied, skipping upgrade: six in /usr/local/lib/python3.6/dist-packages (from h5py->keras) (1.15.0)\n"
          ],
          "name": "stdout"
        }
      ]
    },
    {
      "cell_type": "code",
      "metadata": {
        "id": "f9NIGWWjkdUX",
        "colab": {
          "base_uri": "https://localhost:8080/"
        },
        "outputId": "e627b8cc-c815-432a-d5c6-079e91f809ea"
      },
      "source": [
        "import keras.backend\n",
        "from keras.models import Sequential\n",
        "from keras.layers import Dense, Conv1D, MaxPooling1D\n",
        "from keras.layers import Dropout, GlobalMaxPooling1D, BatchNormalization\n",
        "from keras.layers import Bidirectional\n",
        "from keras.layers.embeddings import Embedding\n",
        "from keras.optimizers import Nadam\n",
        "\n",
        "# Initate model\n",
        "model = Sequential()\n",
        "\n",
        "# Add Embedding layer\n",
        "model.add(Embedding(vocab_size + 1, embedding_dim, weights=[embedding_matrix], input_length=max_len, trainable=True))\n",
        "\n",
        "# Add Recurrent layers\n",
        "#model.add(Bidirectional(CuDNNGRU(300, return_sequences=True)))\n",
        "\n",
        "# Add Convolutional layer\n",
        "model.add(Conv1D(filters=128, kernel_size=5, padding='same', activation='relu'))\n",
        "model.add(MaxPooling1D(3))\n",
        "model.add(GlobalMaxPooling1D())\n",
        "model.add(BatchNormalization())\n",
        "\n",
        "# Add fully connected layers\n",
        "model.add(Dense(50, activation='relu'))\n",
        "model.add(Dropout(0.3))\n",
        "model.add(Dense(6, activation='sigmoid'))\n",
        "\n",
        "# Summarize the model\n",
        "model.summary()\n"
      ],
      "execution_count": null,
      "outputs": [
        {
          "output_type": "stream",
          "text": [
            "Model: \"sequential\"\n",
            "_________________________________________________________________\n",
            "Layer (type)                 Output Shape              Param #   \n",
            "=================================================================\n",
            "embedding (Embedding)        (None, 371, 300)          63101400  \n",
            "_________________________________________________________________\n",
            "conv1d (Conv1D)              (None, 371, 128)          192128    \n",
            "_________________________________________________________________\n",
            "max_pooling1d (MaxPooling1D) (None, 123, 128)          0         \n",
            "_________________________________________________________________\n",
            "global_max_pooling1d (Global (None, 128)               0         \n",
            "_________________________________________________________________\n",
            "batch_normalization (BatchNo (None, 128)               512       \n",
            "_________________________________________________________________\n",
            "dense (Dense)                (None, 50)                6450      \n",
            "_________________________________________________________________\n",
            "dropout (Dropout)            (None, 50)                0         \n",
            "_________________________________________________________________\n",
            "dense_1 (Dense)              (None, 6)                 306       \n",
            "=================================================================\n",
            "Total params: 63,300,796\n",
            "Trainable params: 63,300,540\n",
            "Non-trainable params: 256\n",
            "_________________________________________________________________\n"
          ],
          "name": "stdout"
        }
      ]
    },
    {
      "cell_type": "code",
      "metadata": {
        "collapsed": true,
        "id": "kDAyuBGZkdUX"
      },
      "source": [
        "def loss(y_true, y_pred):\n",
        "     return keras.backend.binary_crossentropy(y_true, y_pred)\n",
        "\n",
        "lr = .0001\n",
        "model.compile(loss=loss, optimizer=Nadam(lr=lr, clipnorm=1.0),\n",
        "              metrics=['binary_accuracy'])"
      ],
      "execution_count": null,
      "outputs": []
    },
    {
      "cell_type": "code",
      "metadata": {
        "id": "kO3PTSbtkdUY"
      },
      "source": [
        "from sklearn.model_selection import train_test_split\n",
        "from sklearn.metrics import roc_auc_score\n",
        "from keras.callbacks import Callback\n",
        "\n",
        "class RocAucEvaluation(Callback):\n",
        "    def __init__(self, filepath, validation_data=(), interval=1, max_epoch = 100):\n",
        "        super(Callback, self).__init__()\n",
        "        # Initialize state variables\n",
        "        self.interval = interval\n",
        "        self.filepath = filepath\n",
        "        self.stopped_epoch = max_epoch\n",
        "        self.best = 0\n",
        "        self.X_val, self.y_val = validation_data\n",
        "        self.y_pred = np.zeros(self.y_val.shape)\n",
        "\n",
        "    def on_epoch_end(self, epoch, logs={}):\n",
        "        if epoch % self.interval == 0:\n",
        "            y_pred = self.model.predict_proba(self.X_val, verbose=0)\n",
        "            current = roc_auc_score(self.y_val, y_pred)\n",
        "            logs['roc_auc_val'] = current\n",
        "\n",
        "            if current > self.best: #save model\n",
        "                print(\" - AUC - improved from {:.5f} to {:.5f}\".format(self.best, current))\n",
        "                self.best = current\n",
        "                self.y_pred = y_pred\n",
        "                self.stopped_epoch = epoch+1\n",
        "                self.model.save(self.filepath, overwrite=True)\n",
        "            else:\n",
        "                print(\" - AUC - did not improve\")\n",
        "            \n",
        "[X, X_val, y, y_val] = train_test_split(processed_X_train, y_train, test_size=0.03, shuffle=False)\n",
        "RocAuc = RocAucEvaluation(filepath='model.best.hdf5',validation_data=(X_val, y_val), interval=1)"
      ],
      "execution_count": null,
      "outputs": []
    },
    {
      "cell_type": "code",
      "metadata": {
        "id": "qSt5LyIIkdUY",
        "colab": {
          "base_uri": "https://localhost:8080/"
        },
        "outputId": "4143da3e-c08f-4d70-e526-8cc40ba7cb42"
      },
      "source": [
        "from keras.callbacks import EarlyStopping, ModelCheckpoint\n",
        "\n",
        "model.compile(loss='binary_crossentropy', optimizer='Adam')\n",
        "\n",
        "# Set variables\n",
        "batch_size = 64\n",
        "epochs = 2\n",
        "\n",
        "# Set early stopping\n",
        "early_stop = EarlyStopping(monitor=\"roc_auc_val\", mode=\"max\", patience=2)\n",
        "                                                    \n",
        "# Train\n",
        "graph = model.fit(X, y, batch_size=batch_size, epochs=epochs,\n",
        "                  validation_data=(X_val, y_val), callbacks=[RocAuc, early_stop],\n",
        "                  verbose=1, shuffle=False)"
      ],
      "execution_count": null,
      "outputs": [
        {
          "output_type": "stream",
          "text": [
            "Epoch 1/2\n",
            "2419/2419 [==============================] - ETA: 0s - loss: 0.0647WARNING:tensorflow:From <ipython-input-39-804b3d41e017>:18: Sequential.predict_proba (from tensorflow.python.keras.engine.sequential) is deprecated and will be removed after 2021-01-01.\n",
            "Instructions for updating:\n",
            "Please use `model.predict()` instead.\n",
            " - AUC - improved from 0.00000 to 0.98557\n",
            "2419/2419 [==============================] - 2658s 1s/step - loss: 0.0647 - val_loss: 0.0429\n",
            "Epoch 2/2\n",
            "2419/2419 [==============================] - ETA: 0s - loss: 0.0372 - AUC - improved from 0.98557 to 0.98618\n",
            "2419/2419 [==============================] - 2634s 1s/step - loss: 0.0372 - val_loss: 0.0464\n"
          ],
          "name": "stdout"
        }
      ]
    },
    {
      "cell_type": "code",
      "metadata": {
        "id": "cXKVQwvWkdUZ",
        "colab": {
          "base_uri": "https://localhost:8080/",
          "height": 295
        },
        "outputId": "f2ef33c9-327a-4d25-d2dc-df65321eb124"
      },
      "source": [
        "import matplotlib.pyplot as plt\n",
        "%matplotlib inline\n",
        "\n",
        "# Visualize history of loss\n",
        "plt.plot(graph.history['loss'])\n",
        "plt.plot(graph.history['val_loss'])\n",
        "plt.title('model loss')\n",
        "plt.ylabel('loss')\n",
        "plt.xlabel('epoch')\n",
        "plt.legend(['train', 'test'], loc='upper left')\n",
        "plt.show()"
      ],
      "execution_count": null,
      "outputs": [
        {
          "output_type": "display_data",
          "data": {
            "image/png": "[encoded data removed]",
            "text/plain": [
              "<Figure size 432x288 with 1 Axes>"
            ]
          },
          "metadata": {
            "tags": [],
            "needs_background": "light"
          }
        }
      ]
    },
    {
      "cell_type": "code",
      "metadata": {
        "collapsed": true,
        "id": "bV9V03F1kdUa"
      },
      "source": [
        "predictions = model.predict(processed_X_test, verbose=0)"
      ],
      "execution_count": null,
      "outputs": []
    },
    {
      "cell_type": "code",
      "metadata": {
        "collapsed": true,
        "id": "EmhyrmgZkdUa"
      },
      "source": [
        "sample_submission = pd.read_csv(\"sample_submission.csv\")\n",
        "sample_submission[list_classes] = predictions\n",
        "sample_submission.to_csv(\"submission1.csv\", index=False)"
      ],
      "execution_count": null,
      "outputs": []
    },
    {
      "cell_type": "code",
      "metadata": {
        "id": "gWHlcn5DkdUb",
        "colab": {
          "base_uri": "https://localhost:8080/"
        },
        "outputId": "8c8a6b35-9e43-4ba6-ac75-10d40241fde5"
      },
      "source": [
        "def toxicity_level(string):\n",
        "    \"\"\"\n",
        "    Return toxicity probability based on inputed string.\n",
        "    \"\"\"\n",
        "    # Process string\n",
        "    new_string = [string]\n",
        "    new_string = tokenizer.texts_to_sequences(new_string)\n",
        "    new_string = pad_sequences(new_string, maxlen=max_len, padding='post', truncating='post')\n",
        "    \n",
        "    # Predict\n",
        "    prediction = model.predict(new_string)\n",
        "    \n",
        "    # Print output\n",
        "    print(\"Toxicity levels for '{}':\".format(string))\n",
        "    print('Toxic:         {:.0%}'.format(prediction[0][0]))\n",
        "    print('Severe Toxic:  {:.0%}'.format(prediction[0][1]))\n",
        "    print('Obscene:       {:.0%}'.format(prediction[0][2]))\n",
        "    print('Threat:        {:.0%}'.format(prediction[0][3]))\n",
        "    print('Insult:        {:.0%}'.format(prediction[0][4]))\n",
        "    print('Identity Hate: {:.0%}'.format(prediction[0][5]))\n",
        "    print()\n",
        "    \n",
        "    return\n",
        "\n",
        "toxicity_level('go jump off a bridge jerk')\n",
        "toxicity_level('i will kill you')\n",
        "toxicity_level('have a nice day')\n",
        "toxicity_level('hola, como estas')\n",
        "toxicity_level('hola mierda joder')\n",
        "toxicity_level('fuck off!!')"
      ],
      "execution_count": null,
      "outputs": [
        {
          "output_type": "stream",
          "text": [
            "Toxicity levels for 'go jump off a bridge jerk':\n",
            "Toxic:         98%\n",
            "Severe Toxic:  0%\n",
            "Obscene:       82%\n",
            "Threat:        0%\n",
            "Insult:        71%\n",
            "Identity Hate: 0%\n",
            "\n",
            "Toxicity levels for 'i will kill you':\n",
            "Toxic:         94%\n",
            "Severe Toxic:  0%\n",
            "Obscene:       7%\n",
            "Threat:        67%\n",
            "Insult:        6%\n",
            "Identity Hate: 0%\n",
            "\n",
            "Toxicity levels for 'have a nice day':\n",
            "Toxic:         0%\n",
            "Severe Toxic:  0%\n",
            "Obscene:       0%\n",
            "Threat:        0%\n",
            "Insult:        0%\n",
            "Identity Hate: 0%\n",
            "\n",
            "Toxicity levels for 'hola, como estas':\n",
            "Toxic:         0%\n",
            "Severe Toxic:  0%\n",
            "Obscene:       0%\n",
            "Threat:        0%\n",
            "Insult:        0%\n",
            "Identity Hate: 0%\n",
            "\n",
            "Toxicity levels for 'hola mierda joder':\n",
            "Toxic:         78%\n",
            "Severe Toxic:  0%\n",
            "Obscene:       27%\n",
            "Threat:        0%\n",
            "Insult:        3%\n",
            "Identity Hate: 0%\n",
            "\n",
            "Toxicity levels for 'fuck off!!':\n",
            "Toxic:         100%\n",
            "Severe Toxic:  14%\n",
            "Obscene:       100%\n",
            "Threat:        0%\n",
            "Insult:        52%\n",
            "Identity Hate: 0%\n",
            "\n"
          ],
          "name": "stdout"
        }
      ]
    },
    {
      "cell_type": "markdown",
      "metadata": {
        "id": "S-qyGL6YkdUb"
      },
      "source": [
        "### Sample test data"
      ]
    },
    {
      "cell_type": "code",
      "metadata": {
        "id": "whi1-3EFkdUb",
        "colab": {
          "base_uri": "https://localhost:8080/"
        },
        "outputId": "e66c6c7c-f9a7-40a1-be74-0e5475238c45"
      },
      "source": [
        "toxicity_level('Whats up')"
      ],
      "execution_count": null,
      "outputs": [
        {
          "output_type": "stream",
          "text": [
            "Toxicity levels for 'Whats up':\n",
            "Toxic:         1%\n",
            "Severe Toxic:  0%\n",
            "Obscene:       0%\n",
            "Threat:        0%\n",
            "Insult:        0%\n",
            "Identity Hate: 0%\n",
            "\n"
          ],
          "name": "stdout"
        }
      ]
    }
  ]
}